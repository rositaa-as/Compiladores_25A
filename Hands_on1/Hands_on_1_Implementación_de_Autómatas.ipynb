{
  "nbformat": 4,
  "nbformat_minor": 0,
  "metadata": {
    "colab": {
      "provenance": []
    },
    "kernelspec": {
      "name": "python3",
      "display_name": "Python 3"
    },
    "language_info": {
      "name": "python"
    }
  },
  "cells": [
    {
      "cell_type": "markdown",
      "source": [
        "# **Autómatas**"
      ],
      "metadata": {
        "id": "pU4_XqUA2BJZ"
      }
    },
    {
      "cell_type": "markdown",
      "source": [
        "# Autómata 1: Validación de Cadenas Alfabéticas\n",
        "\n",
        "Este autómata valida cadenas compuestas  ́unicamente por letras mayúsculas y\n"
      ],
      "metadata": {
        "id": "Jxj6zVDT1zhd"
      }
    },
    {
      "cell_type": "code",
      "execution_count": null,
      "metadata": {
        "colab": {
          "base_uri": "https://localhost:8080/"
        },
        "id": "wBTvIiKH1lT8",
        "outputId": "ca7412fd-048b-43d4-918b-9f83b7242e8e"
      },
      "outputs": [
        {
          "output_type": "stream",
          "name": "stdout",
          "text": [
            "'HelloWorld' → Cadena válida.\n",
            "'123Hello' → Cadena inválida.\n",
            "'Python' → Cadena válida.\n",
            "'Code123' → Cadena inválida.\n",
            "'Rosa' → Cadena válida.\n",
            "'R&S' → Cadena inválida.\n"
          ]
        }
      ],
      "source": [
        "def validate_alpha(s):\n",
        "    return s.isalpha()\n",
        "\n",
        "# Pruebas\n",
        "test_cases = [\"HelloWorld\", \"123Hello\", \"Python\", \"Code123\", \"Rosa\", \"R&S\"]\n",
        "\n",
        "for test in test_cases:\n",
        "    if validate_alpha(test):\n",
        "        print(f\"'{test}' → Cadena válida.\")\n",
        "    else:\n",
        "        print(f\"'{test}' → Cadena inválida.\")\n"
      ]
    },
    {
      "cell_type": "markdown",
      "source": [
        "# Autómata 2: Validación de Números Reales\n",
        "\n",
        "Este autómata valida números reales con signo opcional y punto decimal.\n"
      ],
      "metadata": {
        "id": "q9K8mJor2g2I"
      }
    },
    {
      "cell_type": "code",
      "source": [
        "def validate_real(s):\n",
        "    try:\n",
        "        float(s)  # Convierte la cadena a float\n",
        "        return True\n",
        "    except ValueError:\n",
        "        return False\n",
        "\n",
        "# Pruebas\n",
        "test_cases = [\"-123.456\", \"3.14\", \"00123\", \"+456\", \"12.34.56\"]\n",
        "\n",
        "for test in test_cases:\n",
        "    if validate_real(test):\n",
        "        print(f\"'{test}' → Número válido.\")\n",
        "    else:\n",
        "        print(f\"'{test}' → Número inválido.\")\n"
      ],
      "metadata": {
        "colab": {
          "base_uri": "https://localhost:8080/"
        },
        "id": "1K_IdtAq2tCi",
        "outputId": "61077605-4029-4101-c39c-4adf67db915b"
      },
      "execution_count": null,
      "outputs": [
        {
          "output_type": "stream",
          "name": "stdout",
          "text": [
            "'-123.456' → Número válido.\n",
            "'3.14' → Número válido.\n",
            "'00123' → Número válido.\n",
            "'+456' → Número válido.\n",
            "'12.34.56' → Número inválido.\n"
          ]
        }
      ]
    },
    {
      "cell_type": "markdown",
      "source": [
        "# Autómata 3: Validación de Sentencias Selectivas\n",
        "Este autómata valida sentencias selectivas simples como if-else.\n"
      ],
      "metadata": {
        "id": "jcpk7T0j58zj"
      }
    },
    {
      "cell_type": "code",
      "source": [
        "def validate_if_else(s):\n",
        "    return \"if\" in s and \"else\" in s\n",
        "\n",
        "# Pruebas\n",
        "test_cases = [\n",
        "    \"if x > 0: pass else: pass\",\n",
        "    \"if (x > 0) { } else { }\",\n",
        "    \"if x > 0: pass\",\n",
        "    \"else: pass\"\n",
        "]\n",
        "\n",
        "for test in test_cases:\n",
        "    if validate_if_else(test):\n",
        "        print(f\"'{test}' → Sentencia válida.\")\n",
        "    else:\n",
        "        print(f\"'{test}' → Sentencia inválida.\")\n"
      ],
      "metadata": {
        "colab": {
          "base_uri": "https://localhost:8080/"
        },
        "id": "Pv3gabkN6J-M",
        "outputId": "0cc1db20-7570-45c5-9228-cfea2b9ec7bd"
      },
      "execution_count": null,
      "outputs": [
        {
          "output_type": "stream",
          "name": "stdout",
          "text": [
            "'if x > 0: pass else: pass' → Sentencia válida.\n",
            "'if (x > 0) { } else { }' → Sentencia válida.\n",
            "'if x > 0: pass' → Sentencia inválida.\n",
            "'else: pass' → Sentencia inválida.\n"
          ]
        }
      ]
    }
  ]
}